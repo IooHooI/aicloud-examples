{
 "cells": [
  {
   "cell_type": "code",
   "execution_count": 1,
   "metadata": {},
   "outputs": [],
   "source": [
    "import client_lib"
   ]
  },
  {
   "cell_type": "markdown",
   "metadata": {},
   "source": [
    "## Использование одиночного ГПУ для препроцессинга"
   ]
  },
  {
   "cell_type": "code",
   "execution_count": 2,
   "metadata": {},
   "outputs": [],
   "source": [
    "rapids_run = client_lib.Job(\n",
    "    base_image='registry.aicloud.sbcp.ru/cudf:1.10',\n",
    "    script='cupy_cudf_example.py',\n",
    "    n_workers = 1,\n",
    "    n_gpus = 1,\n",
    "    conda_env = 'cudf_env')\n",
    "rapids_run.submit()\n",
    "rapids_run.logs()"
   ]
  },
  {
   "cell_type": "markdown",
   "metadata": {},
   "source": [
    "## Распределенный препроцессинг (несколько GPU в рамках одного DGX)"
   ]
  },
  {
   "cell_type": "code",
   "execution_count": 3,
   "metadata": {},
   "outputs": [],
   "source": [
    "rapids_run = client_lib.Job(\n",
    "    base_image='registry.aicloud.sbcp.ru/cudf:1.10',\n",
    "    script='PreprocessingGPU/dask_example.py',\n",
    "    n_workers = 1,\n",
    "    n_gpus = 10,\n",
    "    conda_env = 'cudf_env',\n",
    "    processes_per_worker=1)  # Обязательный параметр. Необходимо указать, что главный процесс будет один,дочерние процессы будут генериться внутренними утилитами dask\n",
    "rapids_run.submit()\n",
    "rapids_run.logs()"
   ]
  },
  {
   "cell_type": "markdown",
   "metadata": {},
   "source": [
    "## Распределенный препроцессинг на нескольких DGX"
   ]
  },
  {
   "cell_type": "code",
   "execution_count": 4,
   "metadata": {
    "pycharm": {
     "name": "#%%\n"
    }
   },
   "outputs": [],
   "source": [
    "rapids_run = client_lib.Job(\n",
    "    base_image='registry.aicloud.sbcp.ru/cudf:1.10',\n",
    "    script='PreprocessingGPU/dask_mpi_example.py',\n",
    "    n_workers = 3,\n",
    "    n_gpus = 12,\n",
    "    conda_env = 'cudf_env',\n",
    "    processes_per_worker=14) # Обязательный параметр. Необходимо указать количество процессов на 2 больше чем количество гпу на воркера\n",
    "rapids_run.submit()\n",
    "rapids_run.logs()"
   ]
  }
 ],
 "metadata": {
  "kernelspec": {
   "display_name": "Python 3",
   "language": "python",
   "name": "python3"
  },
  "language_info": {
   "codemirror_mode": {
    "name": "ipython",
    "version": 3
   },
   "file_extension": ".py",
   "mimetype": "text/x-python",
   "name": "python",
   "nbconvert_exporter": "python",
   "pygments_lexer": "ipython3",
   "version": "3.6.7"
  }
 },
 "nbformat": 4,
 "nbformat_minor": 2
}