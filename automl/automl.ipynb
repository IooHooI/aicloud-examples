{
 "cells": [
  {
   "cell_type": "markdown",
   "metadata": {},
   "source": [
    "Этот jupyter-ноутбук демонстрирует работу с библиотеками [AutoMLWhitebox](https://github.com/sberbank-ai-lab/AutoMLWhitebox) и [LightAutoML](https://github.com/sberbank-ai-lab/LightAutoML) для AutoML.\n",
    "\n",
    "В образе для AutoML эти библиотеки установлены по умолчанию. Проверим их версии:"
   ]
  },
  {
   "cell_type": "code",
   "execution_count": null,
   "metadata": {},
   "outputs": [],
   "source": [
    "import autowoe\n",
    "import lightautoml\n",
    "\n",
    "print('Autowoe version:', autowoe.__version__)\n",
    "print('LightAutoML version:', lightautoml.__version__)"
   ]
  },
  {
   "cell_type": "markdown",
   "metadata": {},
   "source": [
    "Для того, чтобы убедиться, что у вас установлены последние версии этих библиотек, можно провести их обновление:"
   ]
  },
  {
   "cell_type": "code",
   "execution_count": null,
   "metadata": {},
   "outputs": [],
   "source": [
    "!pip install --upgrade autowoe lightautoml --user"
   ]
  },
  {
   "cell_type": "markdown",
   "metadata": {},
   "source": [
    "Примеры работы с библиотеками описаны в вышеупомянутых открытых репозиториях на GitHub. Для скачивания туториалов и необходимых материалов вы можете запустить клонирование репозитория (с помощью `git clone`), либо обновление соответствующей папки, если вы до этого уже делали клонирование (с помощью `git pull`)."
   ]
  },
  {
   "cell_type": "code",
   "execution_count": null,
   "metadata": {},
   "outputs": [],
   "source": [
    "# клонирование\n",
    "!git clone https://github.com/sberbank-ai-lab/AutoMLWhitebox.git\n",
    "# обновление материалов\n",
    "!cd AutoMLWhitebox && git pull"
   ]
  },
  {
   "cell_type": "code",
   "execution_count": null,
   "metadata": {},
   "outputs": [],
   "source": [
    "# клонирование\n",
    "!git clone https://github.com/sberbank-ai-lab/LightAutoML.git\n",
    "# обновление материалов\n",
    "!cd LightAutoML && git pull"
   ]
  },
  {
   "cell_type": "markdown",
   "metadata": {},
   "source": [
    "Далее вы можете запустить туториалы в папках AutoMLWhitebox и LightAutoML для знакомства с функционалом библиотек."
   ]
  }
 ],
 "metadata": {
  "kernelspec": {
   "display_name": "Python 3",
   "language": "python",
   "name": "python3"
  },
  "language_info": {
   "codemirror_mode": {
    "name": "ipython",
    "version": 3
   },
   "file_extension": ".py",
   "mimetype": "text/x-python",
   "name": "python",
   "nbconvert_exporter": "python",
   "pygments_lexer": "ipython3",
   "version": "3.8.3"
  }
 },
 "nbformat": 4,
 "nbformat_minor": 4
}
